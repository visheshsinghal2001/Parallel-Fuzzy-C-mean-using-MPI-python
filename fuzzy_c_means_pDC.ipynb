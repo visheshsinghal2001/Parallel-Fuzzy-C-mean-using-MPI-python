{
  "nbformat": 4,
  "nbformat_minor": 0,
  "metadata": {
    "colab": {
      "provenance": []
    },
    "kernelspec": {
      "name": "python3",
      "display_name": "Python 3"
    },
    "language_info": {
      "name": "python"
    }
  },
  "cells": [
    {
      "cell_type": "markdown",
      "source": [
        "## Fuzzy C Means"
      ],
      "metadata": {
        "id": "QbmCI0aRMJtS"
      }
    },
    {
      "cell_type": "code",
      "source": [
        "!pip install mpi4py\n",
        "# !pip install pillow"
      ],
      "metadata": {
        "id": "C3y6jotgVRwT",
        "colab": {
          "base_uri": "https://localhost:8080/"
        },
        "outputId": "14dad62c-84c7-49fe-a320-3de0c0d8a218"
      },
      "execution_count": null,
      "outputs": [
        {
          "output_type": "stream",
          "name": "stdout",
          "text": [
            "Looking in indexes: https://pypi.org/simple, https://us-python.pkg.dev/colab-wheels/public/simple/\n",
            "Requirement already satisfied: mpi4py in /usr/local/lib/python3.7/dist-packages (3.1.4)\n",
            "Looking in indexes: https://pypi.org/simple, https://us-python.pkg.dev/colab-wheels/public/simple/\n",
            "Requirement already satisfied: pillow in /usr/local/lib/python3.7/dist-packages (7.1.2)\n"
          ]
        }
      ]
    },
    {
      "cell_type": "code",
      "execution_count": null,
      "metadata": {
        "id": "Zmk9kItyVBJl"
      },
      "outputs": [],
      "source": [
        "import pandas as pd # reading all required header files\n",
        "import numpy as np\n",
        "import random\n",
        "import operator\n",
        "import math\n",
        "import matplotlib.pyplot as plt \n",
        "from scipy.stats import multivariate_normal\n",
        "from sklearn.datasets import load_iris \n",
        "from mpi4py import MPI"
      ]
    },
    {
      "cell_type": "code",
      "source": [
        "iris = load_iris()\n",
        "df = pd.DataFrame(iris.data)"
      ],
      "metadata": {
        "id": "ClC8gT3oWKjQ"
      },
      "execution_count": null,
      "outputs": []
    },
    {
      "cell_type": "code",
      "source": [
        "df.head()"
      ],
      "metadata": {
        "colab": {
          "base_uri": "https://localhost:8080/",
          "height": 206
        },
        "id": "PFUXtiCIZwWl",
        "outputId": "834e22be-0363-4ccb-bea7-bc1547822d58"
      },
      "execution_count": null,
      "outputs": [
        {
          "output_type": "execute_result",
          "data": {
            "text/plain": [
              "     0    1    2    3\n",
              "0  5.1  3.5  1.4  0.2\n",
              "1  4.9  3.0  1.4  0.2\n",
              "2  4.7  3.2  1.3  0.2\n",
              "3  4.6  3.1  1.5  0.2\n",
              "4  5.0  3.6  1.4  0.2"
            ],
            "text/html": [
              "\n",
              "  <div id=\"df-8856b829-e7e8-4b12-85d6-5fc5170f93d3\">\n",
              "    <div class=\"colab-df-container\">\n",
              "      <div>\n",
              "<style scoped>\n",
              "    .dataframe tbody tr th:only-of-type {\n",
              "        vertical-align: middle;\n",
              "    }\n",
              "\n",
              "    .dataframe tbody tr th {\n",
              "        vertical-align: top;\n",
              "    }\n",
              "\n",
              "    .dataframe thead th {\n",
              "        text-align: right;\n",
              "    }\n",
              "</style>\n",
              "<table border=\"1\" class=\"dataframe\">\n",
              "  <thead>\n",
              "    <tr style=\"text-align: right;\">\n",
              "      <th></th>\n",
              "      <th>0</th>\n",
              "      <th>1</th>\n",
              "      <th>2</th>\n",
              "      <th>3</th>\n",
              "    </tr>\n",
              "  </thead>\n",
              "  <tbody>\n",
              "    <tr>\n",
              "      <th>0</th>\n",
              "      <td>5.1</td>\n",
              "      <td>3.5</td>\n",
              "      <td>1.4</td>\n",
              "      <td>0.2</td>\n",
              "    </tr>\n",
              "    <tr>\n",
              "      <th>1</th>\n",
              "      <td>4.9</td>\n",
              "      <td>3.0</td>\n",
              "      <td>1.4</td>\n",
              "      <td>0.2</td>\n",
              "    </tr>\n",
              "    <tr>\n",
              "      <th>2</th>\n",
              "      <td>4.7</td>\n",
              "      <td>3.2</td>\n",
              "      <td>1.3</td>\n",
              "      <td>0.2</td>\n",
              "    </tr>\n",
              "    <tr>\n",
              "      <th>3</th>\n",
              "      <td>4.6</td>\n",
              "      <td>3.1</td>\n",
              "      <td>1.5</td>\n",
              "      <td>0.2</td>\n",
              "    </tr>\n",
              "    <tr>\n",
              "      <th>4</th>\n",
              "      <td>5.0</td>\n",
              "      <td>3.6</td>\n",
              "      <td>1.4</td>\n",
              "      <td>0.2</td>\n",
              "    </tr>\n",
              "  </tbody>\n",
              "</table>\n",
              "</div>\n",
              "      <button class=\"colab-df-convert\" onclick=\"convertToInteractive('df-8856b829-e7e8-4b12-85d6-5fc5170f93d3')\"\n",
              "              title=\"Convert this dataframe to an interactive table.\"\n",
              "              style=\"display:none;\">\n",
              "        \n",
              "  <svg xmlns=\"http://www.w3.org/2000/svg\" height=\"24px\"viewBox=\"0 0 24 24\"\n",
              "       width=\"24px\">\n",
              "    <path d=\"M0 0h24v24H0V0z\" fill=\"none\"/>\n",
              "    <path d=\"M18.56 5.44l.94 2.06.94-2.06 2.06-.94-2.06-.94-.94-2.06-.94 2.06-2.06.94zm-11 1L8.5 8.5l.94-2.06 2.06-.94-2.06-.94L8.5 2.5l-.94 2.06-2.06.94zm10 10l.94 2.06.94-2.06 2.06-.94-2.06-.94-.94-2.06-.94 2.06-2.06.94z\"/><path d=\"M17.41 7.96l-1.37-1.37c-.4-.4-.92-.59-1.43-.59-.52 0-1.04.2-1.43.59L10.3 9.45l-7.72 7.72c-.78.78-.78 2.05 0 2.83L4 21.41c.39.39.9.59 1.41.59.51 0 1.02-.2 1.41-.59l7.78-7.78 2.81-2.81c.8-.78.8-2.07 0-2.86zM5.41 20L4 18.59l7.72-7.72 1.47 1.35L5.41 20z\"/>\n",
              "  </svg>\n",
              "      </button>\n",
              "      \n",
              "  <style>\n",
              "    .colab-df-container {\n",
              "      display:flex;\n",
              "      flex-wrap:wrap;\n",
              "      gap: 12px;\n",
              "    }\n",
              "\n",
              "    .colab-df-convert {\n",
              "      background-color: #E8F0FE;\n",
              "      border: none;\n",
              "      border-radius: 50%;\n",
              "      cursor: pointer;\n",
              "      display: none;\n",
              "      fill: #1967D2;\n",
              "      height: 32px;\n",
              "      padding: 0 0 0 0;\n",
              "      width: 32px;\n",
              "    }\n",
              "\n",
              "    .colab-df-convert:hover {\n",
              "      background-color: #E2EBFA;\n",
              "      box-shadow: 0px 1px 2px rgba(60, 64, 67, 0.3), 0px 1px 3px 1px rgba(60, 64, 67, 0.15);\n",
              "      fill: #174EA6;\n",
              "    }\n",
              "\n",
              "    [theme=dark] .colab-df-convert {\n",
              "      background-color: #3B4455;\n",
              "      fill: #D2E3FC;\n",
              "    }\n",
              "\n",
              "    [theme=dark] .colab-df-convert:hover {\n",
              "      background-color: #434B5C;\n",
              "      box-shadow: 0px 1px 3px 1px rgba(0, 0, 0, 0.15);\n",
              "      filter: drop-shadow(0px 1px 2px rgba(0, 0, 0, 0.3));\n",
              "      fill: #FFFFFF;\n",
              "    }\n",
              "  </style>\n",
              "\n",
              "      <script>\n",
              "        const buttonEl =\n",
              "          document.querySelector('#df-8856b829-e7e8-4b12-85d6-5fc5170f93d3 button.colab-df-convert');\n",
              "        buttonEl.style.display =\n",
              "          google.colab.kernel.accessAllowed ? 'block' : 'none';\n",
              "\n",
              "        async function convertToInteractive(key) {\n",
              "          const element = document.querySelector('#df-8856b829-e7e8-4b12-85d6-5fc5170f93d3');\n",
              "          const dataTable =\n",
              "            await google.colab.kernel.invokeFunction('convertToInteractive',\n",
              "                                                     [key], {});\n",
              "          if (!dataTable) return;\n",
              "\n",
              "          const docLinkHtml = 'Like what you see? Visit the ' +\n",
              "            '<a target=\"_blank\" href=https://colab.research.google.com/notebooks/data_table.ipynb>data table notebook</a>'\n",
              "            + ' to learn more about interactive tables.';\n",
              "          element.innerHTML = '';\n",
              "          dataTable['output_type'] = 'display_data';\n",
              "          await google.colab.output.renderOutput(dataTable, element);\n",
              "          const docLink = document.createElement('div');\n",
              "          docLink.innerHTML = docLinkHtml;\n",
              "          element.appendChild(docLink);\n",
              "        }\n",
              "      </script>\n",
              "    </div>\n",
              "  </div>\n",
              "  "
            ]
          },
          "metadata": {},
          "execution_count": 69
        }
      ]
    },
    {
      "cell_type": "code",
      "source": [
        "#deciding parameters\n",
        "n=df.shape[0] #no of points in dataset\n",
        "k=3 #no of clusters we want\n",
        "d=df.shape[1] #dimension of data \n",
        "m=2 #fuzziness parameter\n",
        "n"
      ],
      "metadata": {
        "id": "Gic9SKd2WTHj",
        "colab": {
          "base_uri": "https://localhost:8080/"
        },
        "outputId": "217aa8fc-1fd2-4968-d99b-49a63c7018d0"
      },
      "execution_count": null,
      "outputs": [
        {
          "output_type": "execute_result",
          "data": {
            "text/plain": [
              "150"
            ]
          },
          "metadata": {},
          "execution_count": 70
        }
      ]
    },
    {
      "cell_type": "markdown",
      "source": [
        "# **Necessary Functions**"
      ],
      "metadata": {
        "id": "XSsTGtx3thGX"
      }
    },
    {
      "cell_type": "markdown",
      "source": [
        "# Intializing Random membership matrix\n",
        "\n",
        "\n",
        "\n",
        "it will automatically converge after some iterations to correct value\n"
      ],
      "metadata": {
        "id": "ySVRNVy-W9GI"
      }
    },
    {
      "cell_type": "code",
      "source": [
        "#intializing a random n*k matrix\n",
        "def intializeMembership(k,n):\n",
        "   weight = np.random.dirichlet(np.ones(k),n)\n",
        "   weight_arr = np.array(weight)\n",
        "   return weight_arr"
      ],
      "metadata": {
        "id": "EMPjA6IqWc4b"
      },
      "execution_count": null,
      "outputs": []
    },
    {
      "cell_type": "markdown",
      "source": [
        "Calculating Cluster Center\n",
        "To calculate centroids for each cluster we apply the following formula:\n",
        "![centroidcalc.svg](data:image/svg+xml;base64,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)\n",
        " \n",
        "m(fuzzy-ness) ranges from 1 to inf"
      ],
      "metadata": {
        "id": "tZvqxFRhbe_I"
      }
    },
    {
      "cell_type": "code",
      "source": [
        "def computeCentroids(weight_arr,n,k,m):\n",
        "  C=[]\n",
        "  for i in range(k):\n",
        "    #computing denominator\n",
        "    weight_sum=np.power(weight_arr[:,i],m).sum()\n",
        "    Cj=[]\n",
        "    for x in range(d):\n",
        "      #.values is used to get numpy representation\n",
        "      #that is to aid in dot product with Wij^m\n",
        "      numerator=(df.iloc[:,x].values*np.power(weight_arr[:,i],m)).sum()\n",
        "      c_val=numerator/weight_sum;\n",
        "      #each dimension fuzzy centroid according to fuzzyiness parameter\n",
        "      Cj.append(c_val)\n",
        "    C.append(Cj);\n",
        "  return np.array(C)\n",
        " \n"
      ],
      "metadata": {
        "id": "suNXwTy7Xz6G"
      },
      "execution_count": null,
      "outputs": []
    },
    {
      "cell_type": "markdown",
      "source": [
        "# Calculating Distance matrix"
      ],
      "metadata": {
        "id": "wUB9v7RYtnw8"
      }
    },
    {
      "cell_type": "code",
      "source": [
        "def distance_matrix(df,n,C):\n",
        "  distanceMatrix=[]\n",
        "  for i in range(n):\n",
        "    #for each point we intialize empty matrix\n",
        "    dj=[]\n",
        "    for j in range(d):\n",
        "      #finding distance of that point dimension to centroids dimensions\n",
        "      d_val=(C[:,j]-df.iloc[i,j])**2\n",
        "      dj.append(d_val)\n",
        "    \n",
        "    dj_sum=sum(np.array(dj),0)\n",
        "    dj_sum=np.power(dj_sum,0.5)\n",
        "    #adding it to array\n",
        "    distanceMatrix.append(dj_sum.tolist())\n",
        "  return np.array(distanceMatrix)\n",
        "\n",
        "      "
      ],
      "metadata": {
        "id": "tOV-lDzpYkX0"
      },
      "execution_count": null,
      "outputs": []
    },
    {
      "cell_type": "markdown",
      "source": [
        "# Updating membership\n",
        "![membershipUpdate.svg](data:image/svg+xml;base64,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)"
      ],
      "metadata": {
        "id": "04jA6IE5t1qG"
      }
    },
    {
      "cell_type": "code",
      "source": [
        "def UpdateMembershipMatrix(distance,n,k):\n",
        "  U=[]\n",
        "  for i in range(n):\n",
        "    nthrow=[]\n",
        "    for j in range(k):\n",
        "      d=distance[i,j]**2\n",
        "      mat=d/(distance[i,:]**2)\n",
        "      dval=sum(mat)\n",
        "      dval=pow(1/dval,1/(m-1))\n",
        "      nthrow.append(dval)\n",
        "    U.append(nthrow)\n",
        "  return np.array(U)"
      ],
      "metadata": {
        "id": "QpcFelb6ZeL8"
      },
      "execution_count": null,
      "outputs": []
    },
    {
      "cell_type": "markdown",
      "source": [
        "# Now parallezing the code!!!!"
      ],
      "metadata": {
        "id": "IJNuENlGupcP"
      }
    },
    {
      "cell_type": "code",
      "source": [
        "comm = MPI.COMM_WORLD #creating processes\n",
        "rank=comm.Get_rank();\n",
        "size=comm.Get_size();\n",
        "num_cols=k/size;"
      ],
      "metadata": {
        "id": "zuqx5yDOuonn"
      },
      "execution_count": null,
      "outputs": []
    },
    {
      "cell_type": "code",
      "source": [
        "def fuzzyLogic(U,k,n,d,m):\n",
        "  comm = MPI.COMM_WORLD #creating processes\n",
        "  rank=comm.Get_rank();\n",
        "  size=comm.Get_size();\n",
        "  num_cols=int(k/size);\n",
        "  send_data=None\n",
        "  if comm.rank==0:\n",
        "    arrs=np.split(U,size,axis=1)\n",
        "    raveled=[np.ravel(arr) for arr in arrs]\n",
        "    send_data=np.concatenate(raveled)\n",
        "  \n",
        "  \n",
        "  recvbuf=np.empty((n,num_cols),dtype=np.float64)\n",
        "  comm.Scatterv(send_data,recvbuf,root=0)\n",
        "  uj=recvbuf\n",
        "  Cj=computeCentroids(uj,n,num_cols,m);\n",
        "  \n",
        "  comm.barrier();\n",
        "  C=np.empty((k,d),dtype=np.float64);\n",
        "  wj=int(n/size);\n",
        "  # print('Rank: ',rank, ', recvbuf received:\\n ',Cj)\n",
        "  comm.Gatherv(Cj,C,root=0);\n",
        "  #  print('Rank: ',rank, ', recvbuf received:\\n ',C)\n",
        "   #sending computed centers to all\n",
        "  comm.Bcast( [C, MPI.DOUBLE] ,root=0)\n",
        "  #creating some index rows to split already copied dataset\n",
        "  send_data=None;\n",
        "  if rank==0:\n",
        "    index=0;\n",
        "    l=[]\n",
        "    for i in range(0,n,wj):\n",
        "      l.append([i,i+wj]);\n",
        "    send_data=np.array(l);\n",
        "\n",
        "  recvbuf=np.zeros(2,dtype=np.int64)\n",
        "  comm.Scatterv(send_data,recvbuf,root=0)\n",
        "  #distance matrix calculation\n",
        "  dist=distance_matrix(df.iloc[recvbuf[0]:recvbuf[1],:],wj,C)\n",
        "  #updated weight matrix\n",
        "  uf=UpdateMembershipMatrix(dist,wj,k)\n",
        "  comm.Gatherv(uf,U,root=0);\n",
        "  if rank==0:\n",
        "     return np.array(U),C\n",
        "\n",
        "  #now gather all matrixes"
      ],
      "metadata": {
        "id": "vpIe34u1Azx2"
      },
      "execution_count": null,
      "outputs": []
    },
    {
      "cell_type": "code",
      "source": [
        "U=intializeMembership(k,n)\n",
        "threshold=0.1\n",
        "for i in range(1):\n",
        "  if i==0:   \n",
        "    U,C=fuzzyLogic(U,k,n,d,m)\n",
        "  else:\n",
        "    U,C1=fuzzyLogic(U,k,n,d,m)\n",
        "    j=distance_matrix(pd.DataFrame(C1),3,C)\n",
        "\n",
        "    print(\"iteration\",i,j[0][0],j[1][1],j[2][2])\n",
        "    if(j[0][0]<threshold and j[1][1]<threshold and j[2][2]<threshold):\n",
        "      break;\n",
        "    else:\n",
        "      C=C1\n",
        "\n",
        "# np.sum(U,axis=0)"
      ],
      "metadata": {
        "id": "f2ZviIaSu6jx"
      },
      "execution_count": null,
      "outputs": []
    },
    {
      "cell_type": "code",
      "source": [
        "U"
      ],
      "metadata": {
        "colab": {
          "base_uri": "https://localhost:8080/"
        },
        "id": "GiAYnAajQIJd",
        "outputId": "d1093b4c-b7f3-4119-df78-c5e99092532d"
      },
      "execution_count": null,
      "outputs": [
        {
          "output_type": "execute_result",
          "data": {
            "text/plain": [
              "array([[0.36231677, 0.34422358, 0.29345965],\n",
              "       [0.36233295, 0.34443905, 0.29322801],\n",
              "       [0.36058117, 0.34434309, 0.29507573],\n",
              "       [0.36176257, 0.34507436, 0.29316307],\n",
              "       [0.36168484, 0.34431952, 0.29399564],\n",
              "       [0.36401801, 0.34458244, 0.29139955],\n",
              "       [0.36079183, 0.34490687, 0.29430131],\n",
              "       [0.36332698, 0.34479273, 0.29188028],\n",
              "       [0.35969841, 0.34457968, 0.29572191],\n",
              "       [0.36299933, 0.34466633, 0.29233433],\n",
              "       [0.36282229, 0.34377308, 0.29340463],\n",
              "       [0.36339643, 0.34540475, 0.29119882],\n",
              "       [0.36162622, 0.34434794, 0.29402583],\n",
              "       [0.35721463, 0.34356466, 0.29922071],\n",
              "       [0.35786811, 0.34149591, 0.30063599],\n",
              "       [0.35750663, 0.34204451, 0.30044886],\n",
              "       [0.36013538, 0.34319333, 0.29667129],\n",
              "       [0.36256007, 0.34439844, 0.29304149],\n",
              "       [0.3641784 , 0.34348332, 0.29233828],\n",
              "       [0.3621203 , 0.34450638, 0.29337332],\n",
              "       [0.36659506, 0.34469136, 0.28871358],\n",
              "       [0.36286647, 0.34479485, 0.29233868],\n",
              "       [0.3573286 , 0.34336205, 0.29930935],\n",
              "       [0.36720577, 0.34616084, 0.28663338],\n",
              "       [0.36633925, 0.34669161, 0.28696914],\n",
              "       [0.36482491, 0.34507938, 0.29009571],\n",
              "       [0.36495758, 0.3456188 , 0.28942362],\n",
              "       [0.36356251, 0.34440109, 0.2920364 ],\n",
              "       [0.36282454, 0.34406989, 0.29310557],\n",
              "       [0.36318925, 0.34546991, 0.29134084],\n",
              "       [0.36384317, 0.34537405, 0.29078279],\n",
              "       [0.36471706, 0.34430535, 0.2909776 ],\n",
              "       [0.3598471 , 0.34351249, 0.29664041],\n",
              "       [0.35863981, 0.34254628, 0.29881391],\n",
              "       [0.3633524 , 0.34488195, 0.29176565],\n",
              "       [0.36075387, 0.34370255, 0.29554358],\n",
              "       [0.36160013, 0.3429819 , 0.29541797],\n",
              "       [0.36109321, 0.34425672, 0.29465007],\n",
              "       [0.35910486, 0.34432381, 0.29657133],\n",
              "       [0.36365408, 0.34463303, 0.29171289],\n",
              "       [0.36131289, 0.3441795 , 0.29450761],\n",
              "       [0.3579732 , 0.34353536, 0.29849144],\n",
              "       [0.35909547, 0.3444056 , 0.29649893],\n",
              "       [0.36476493, 0.34589835, 0.28933672],\n",
              "       [0.36643911, 0.34639274, 0.28716815],\n",
              "       [0.36213179, 0.34471373, 0.29315447],\n",
              "       [0.3627884 , 0.34468318, 0.29252842],\n",
              "       [0.36090537, 0.34474114, 0.29435349],\n",
              "       [0.3627764 , 0.34402772, 0.29319588],\n",
              "       [0.3625428 , 0.34442522, 0.29303198],\n",
              "       [0.28968049, 0.30510218, 0.40521733],\n",
              "       [0.25827052, 0.28622719, 0.45550228],\n",
              "       [0.28827086, 0.30556581, 0.40616333],\n",
              "       [0.31604758, 0.33567744, 0.34827498],\n",
              "       [0.26916806, 0.29280182, 0.43803012],\n",
              "       [0.26160888, 0.30075085, 0.43764026],\n",
              "       [0.26799815, 0.29612563, 0.43587623],\n",
              "       [0.37023756, 0.3556608 , 0.27410164],\n",
              "       [0.27333461, 0.29414243, 0.43252296],\n",
              "       [0.32858889, 0.35777449, 0.31363662],\n",
              "       [0.35484709, 0.34796583, 0.29718707],\n",
              "       [0.20171668, 0.24998988, 0.54829344],\n",
              "       [0.31475813, 0.32126359, 0.36397828],\n",
              "       [0.26083343, 0.29167501, 0.44749157],\n",
              "       [0.39573751, 0.4158869 , 0.1883756 ],\n",
              "       [0.27239207, 0.29227633, 0.4353316 ],\n",
              "       [0.26208553, 0.30509665, 0.43281782],\n",
              "       [0.28182764, 0.31325219, 0.40492017],\n",
              "       [0.28669307, 0.30685016, 0.40645677],\n",
              "       [0.32765121, 0.34459032, 0.32775847],\n",
              "       [0.27339184, 0.30493727, 0.42167089],\n",
              "       [0.20364539, 0.23775502, 0.55859958],\n",
              "       [0.28250045, 0.30460444, 0.41289511],\n",
              "       [0.26733596, 0.2952713 , 0.43739274],\n",
              "       [0.24855093, 0.27426432, 0.47718476],\n",
              "       [0.26558757, 0.287646  , 0.44676643],\n",
              "       [0.28531918, 0.3028888 , 0.41179202],\n",
              "       [0.28550661, 0.30545997, 0.40903342],\n",
              "       [0.24439622, 0.28135485, 0.47424894],\n",
              "       [0.40670424, 0.357524  , 0.23577176],\n",
              "       [0.34414943, 0.34968397, 0.3061666 ],\n",
              "       [0.36035488, 0.35286096, 0.28678415],\n",
              "       [0.27321766, 0.3174896 , 0.40929273],\n",
              "       [0.28390795, 0.3087445 , 0.40734755],\n",
              "       [0.27918224, 0.31984382, 0.40097394],\n",
              "       [0.25817467, 0.29428085, 0.44754448],\n",
              "       [0.27803882, 0.2987356 , 0.42322559],\n",
              "       [0.28406688, 0.30271209, 0.41322103],\n",
              "       [0.24110505, 0.31381131, 0.44508365],\n",
              "       [0.30827937, 0.33846792, 0.35325272],\n",
              "       [0.28891518, 0.32191803, 0.38916679],\n",
              "       [0.25135407, 0.28471118, 0.46393475],\n",
              "       [0.27572312, 0.31108195, 0.41319493],\n",
              "       [0.36938095, 0.35418419, 0.27643486],\n",
              "       [0.26855857, 0.31437801, 0.41706342],\n",
              "       [0.22984729, 0.28883972, 0.48131299],\n",
              "       [0.22842115, 0.28499218, 0.48658667],\n",
              "       [0.22831735, 0.26088654, 0.51079611],\n",
              "       [0.38147293, 0.356263  , 0.26226408],\n",
              "       [0.23691165, 0.29450265, 0.4685857 ],\n",
              "       [0.30437615, 0.32040821, 0.37521564],\n",
              "       [0.28801968, 0.3132193 , 0.39876103],\n",
              "       [0.30406835, 0.31775543, 0.37817622],\n",
              "       [0.29524433, 0.31442944, 0.39032623],\n",
              "       [0.30040564, 0.3172487 , 0.38234566],\n",
              "       [0.31135134, 0.32163922, 0.36700944],\n",
              "       [0.31199195, 0.33477503, 0.35323302],\n",
              "       [0.30823977, 0.31981999, 0.37194024],\n",
              "       [0.30158262, 0.31660104, 0.38181634],\n",
              "       [0.30828039, 0.32072286, 0.37099675],\n",
              "       [0.28775478, 0.30917481, 0.40307041],\n",
              "       [0.29116666, 0.31127039, 0.39756295],\n",
              "       [0.29761885, 0.31434871, 0.38803243],\n",
              "       [0.29162182, 0.31589505, 0.39248313],\n",
              "       [0.2947142 , 0.31733254, 0.38795326],\n",
              "       [0.29435549, 0.31425652, 0.39138798],\n",
              "       [0.29394862, 0.31282003, 0.39323134],\n",
              "       [0.31322554, 0.32292582, 0.36384864],\n",
              "       [0.31342818, 0.32286857, 0.36370325],\n",
              "       [0.29309341, 0.31332937, 0.39357721],\n",
              "       [0.30185515, 0.31710942, 0.38103543],\n",
              "       [0.28753302, 0.31543042, 0.39703656],\n",
              "       [0.31230968, 0.32200667, 0.36568364],\n",
              "       [0.27973169, 0.3039083 , 0.41636001],\n",
              "       [0.29992763, 0.31641175, 0.38366062],\n",
              "       [0.30540979, 0.31822033, 0.37636988],\n",
              "       [0.27379566, 0.30085971, 0.42534463],\n",
              "       [0.2752878 , 0.30330193, 0.42141027],\n",
              "       [0.29715716, 0.31540659, 0.38743625],\n",
              "       [0.30371561, 0.31664798, 0.37963641],\n",
              "       [0.30748069, 0.31908539, 0.37343392],\n",
              "       [0.31287854, 0.3222186 , 0.36490286],\n",
              "       [0.29783989, 0.31590974, 0.38625036],\n",
              "       [0.28292101, 0.30569254, 0.41138645],\n",
              "       [0.29750234, 0.31587409, 0.38662357],\n",
              "       [0.30955918, 0.32027891, 0.37016191],\n",
              "       [0.29988303, 0.31804814, 0.38206883],\n",
              "       [0.29346704, 0.31306806, 0.3934649 ],\n",
              "       [0.271394  , 0.30189757, 0.42670843],\n",
              "       [0.29736101, 0.31383447, 0.38880452],\n",
              "       [0.30023222, 0.31671503, 0.38305275],\n",
              "       [0.29593969, 0.31293206, 0.39112824],\n",
              "       [0.28801968, 0.3132193 , 0.39876103],\n",
              "       [0.30324191, 0.31827834, 0.37847976],\n",
              "       [0.30231105, 0.31816414, 0.37952481],\n",
              "       [0.29477482, 0.31299468, 0.39223051],\n",
              "       [0.2871514 , 0.30881868, 0.40402992],\n",
              "       [0.28936701, 0.31004514, 0.40058785],\n",
              "       [0.29641908, 0.31650991, 0.387071  ],\n",
              "       [0.28351259, 0.31017593, 0.40631148]])"
            ]
          },
          "metadata": {},
          "execution_count": 78
        }
      ]
    },
    {
      "cell_type": "code",
      "source": [
        "df_sepal = df.iloc[:,0:2]\n",
        "df_petal = df.iloc[:,2:5]"
      ],
      "metadata": {
        "id": "Dv51Sy2mXrwV"
      },
      "execution_count": null,
      "outputs": []
    },
    {
      "cell_type": "code",
      "source": [
        "plt.figure(0,figsize=(5,5))                #scatter plot of sepal length vs sepal width                              \n",
        "plt.scatter(list(df_sepal.iloc[:,0]), list(df_sepal.iloc[:,1]), marker='o')       \n",
        "plt.axis('equal')                                                                 \n",
        "plt.xlabel('Sepal Length', fontsize=16)                                                 \n",
        "plt.ylabel('Sepal Width', fontsize=16)                                                 \n",
        "plt.title('Sepal Plot', fontsize=25,color='b')                                            \n",
        "plt.grid() \n",
        "for center in C:\n",
        "  plt.scatter(center[0],center[1], marker='o',color='r')                                                                \n",
        "plt.show()\n",
        "\n",
        "plt.figure(1,figsize=(5,5))                #scatter plot of sepal length vs sepal width                              \n",
        "plt.scatter(list(df_petal.iloc[:,0]), list(df_petal.iloc[:,1]), marker='o')       \n",
        "plt.axis('equal')                                                                 \n",
        "plt.xlabel('petal Length', fontsize=16)                                                 \n",
        "plt.ylabel('petal Width', fontsize=16)                                                 \n",
        "plt.title('Petal Plot', fontsize=25,color='b')                                            \n",
        "plt.grid()                     \n",
        "for center in C:\n",
        "  plt.scatter(center[2],center[3], marker='o',color='r')                                                       \n",
        "plt.show()"
      ],
      "metadata": {
        "colab": {
          "base_uri": "https://localhost:8080/",
          "height": 711
        },
        "id": "bpOWPYZsXu7Z",
        "outputId": "0872016f-9da1-4bd8-deaa-ae5e36265568"
      },
      "execution_count": null,
      "outputs": [
        {
          "output_type": "display_data",
          "data": {
            "text/plain": [
              "<Figure size 360x360 with 1 Axes>"
            ],
            "image/png": "[encoded data removed]"
          },
          "metadata": {
            "needs_background": "light"
          }
        },
        {
          "output_type": "display_data",
          "data": {
            "text/plain": [
              "<Figure size 360x360 with 1 Axes>"
            ],
            "image/png": "[encoded data removed]"
          },
          "metadata": {
            "needs_background": "light"
          }
        }
      ]
    },
    {
      "cell_type": "code",
      "source": [
        "X = np.zeros((n,1))\n",
        "plt.figure(0,figsize=(8,8))                #scatter plot of sepal length vs sepal width                                     \n",
        "plt.axis('equal')                                                                 \n",
        "plt.xlabel('Sepal Length', fontsize=16)                                                 \n",
        "plt.ylabel('Sepal Width', fontsize=16)                                                 \n",
        "plt.title('Sepal Plot', fontsize=25,color='b')                                            \n",
        "plt.grid() \n",
        "for center in C:\n",
        "  plt.scatter(center[0],center[1], marker='D',color='r')                                                                \n",
        "clr = 'b'\n",
        "for i in range(n):    \n",
        "    cNumber = np.where(U[i] == np.amax(U[i]))\n",
        "    if cNumber[0][0]==0:\n",
        "      clr = 'y'\n",
        "    elif cNumber[0][0]==1:\n",
        "      clr = 'g'\n",
        "    elif cNumber[0][0]==2:\n",
        "      clr = 'm'\n",
        "    plt.scatter(list(df_sepal.iloc[i:i+1,0]), list(df_sepal.iloc[i:i+1,1]), alpha=0.25,s=100,color=clr)\n",
        "plt.show()"
      ],
      "metadata": {
        "colab": {
          "base_uri": "https://localhost:8080/",
          "height": 527
        },
        "id": "LoVYpkAoYsu_",
        "outputId": "9867ceb0-823c-4c78-9aa4-faf5a1c0fa38"
      },
      "execution_count": null,
      "outputs": [
        {
          "output_type": "display_data",
          "data": {
            "text/plain": [
              "<Figure size 576x576 with 1 Axes>"
            ],
            "image/png": "[encoded data removed]"
          },
          "metadata": {
            "needs_background": "light"
          }
        }
      ]
    },
    {
      "cell_type": "code",
      "source": [
        "U.shape"
      ],
      "metadata": {
        "id": "jxNwGywmspWJ",
        "outputId": "ca3f07f2-0240-4270-c459-d3d0360f0eab",
        "colab": {
          "base_uri": "https://localhost:8080/"
        }
      },
      "execution_count": null,
      "outputs": [
        {
          "output_type": "execute_result",
          "data": {
            "text/plain": [
              "(150, 3)"
            ]
          },
          "metadata": {},
          "execution_count": 82
        }
      ]
    }
  ]
}